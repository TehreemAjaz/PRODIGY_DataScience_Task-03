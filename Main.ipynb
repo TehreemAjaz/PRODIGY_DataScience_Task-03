{
  "nbformat": 4,
  "nbformat_minor": 0,
  "metadata": {
    "colab": {
      "provenance": []
    },
    "kernelspec": {
      "name": "python3",
      "display_name": "Python 3"
    },
    "language_info": {
      "name": "python"
    }
  },
  "cells": [
    {
      "cell_type": "code",
      "source": [
        "import pandas as pd\n",
        "import zipfile\n",
        "import requests\n",
        "from io import BytesIO\n",
        "from sklearn.model_selection import train_test_split\n",
        "from sklearn.tree import DecisionTreeClassifier\n",
        "from sklearn.metrics import accuracy_score, classification_report, confusion_matrix\n",
        "\n",
        "# URL of the dataset\n",
        "url = 'https://archive.ics.uci.edu/ml/machine-learning-databases/00222/bank.zip'\n",
        "\n",
        "# Download and extract the dataset\n",
        "response = requests.get(url)\n",
        "with zipfile.ZipFile(BytesIO(response.content)) as z:\n",
        "    file_names = z.namelist()\n",
        "    print(\"Files in the zip:\", file_names)\n",
        "    df = pd.read_csv(z.open(file_names[0]), sep=';')\n",
        "\n",
        "# Display initial columns to identify the target variable\n",
        "print(\"Available columns:\")\n",
        "print(df.columns.tolist())\n",
        "\n",
        "# Set the correct target column name\n",
        "target_column = 'y'\n",
        "print(\"Columns before encoding:\", df.columns.tolist())\n",
        "\n",
        "# Isolate the target column\n",
        "y = df[target_column]\n",
        "\n",
        "# One-hot encode the rest of the dataset\n",
        "df = pd.get_dummies(df.drop(columns=[target_column]))  # Drop target column before encoding\n",
        "\n",
        "# Ensure the target column is not lost after preprocessing\n",
        "print(\"Columns after preprocessing:\")\n",
        "print(df.columns.tolist())\n",
        "\n",
        "# Separate features and target variable\n",
        "X = df  # Features remain as they are after encoding\n",
        "\n",
        "# Split the data into training and testing sets\n",
        "X_train, X_test, y_train, y_test = train_test_split(X, y, test_size=0.3, random_state=42)\n",
        "\n",
        "# Initialize and train the classifier\n",
        "clf = DecisionTreeClassifier()\n",
        "clf.fit(X_train, y_train)\n",
        "\n",
        "# Make predictions\n",
        "y_pred = clf.predict(X_test)\n",
        "\n",
        "# Evaluate the model\n",
        "print(f'Accuracy: {accuracy_score(y_test, y_pred)}')\n",
        "print(classification_report(y_test, y_pred))\n"
      ],
      "metadata": {
        "id": "q-UWpfKgvv6a"
      },
      "execution_count": null,
      "outputs": []
    },
    {
      "cell_type": "code",
      "source": [
        "# We have already imported necessary libraries and preprocessed the data.\n",
        "# X contains the features after one-hot encoding.\n",
        "# y is the target variable 'y'.\n",
        "\n",
        "from sklearn.model_selection import train_test_split\n",
        "from sklearn.tree import DecisionTreeClassifier, plot_tree\n",
        "from sklearn.metrics import accuracy_score, classification_report, confusion_matrix\n",
        "import matplotlib.pyplot as plt\n",
        "\n",
        "# 1. Split the data into training and testing sets\n",
        "X_train, X_test, y_train, y_test = train_test_split(X, y, test_size=0.3, random_state=42)\n",
        "\n",
        "# 2. Initialize the Decision Tree Classifier\n",
        "clf = DecisionTreeClassifier(random_state=42)\n",
        "\n",
        "# 3. Train the classifier\n",
        "clf.fit(X_train, y_train)\n",
        "\n",
        "# 4. Make predictions on the test set\n",
        "y_pred = clf.predict(X_test)\n",
        "\n",
        "# 5. Evaluate the model\n",
        "accuracy = accuracy_score(y_test, y_pred)\n",
        "print(f'Accuracy: {accuracy:.2f}')\n",
        "\n",
        "print('Classification Report:')\n",
        "print(classification_report(y_test, y_pred))\n",
        "\n",
        "print('Confusion Matrix:')\n",
        "print(confusion_matrix(y_test, y_pred))\n",
        "\n",
        "# 6. Plot the decision tree\n",
        "plt.figure(figsize=(20, 10))\n",
        "plot_tree(clf, filled=True, feature_names=X.columns, class_names=clf.classes_, rounded=True)\n",
        "plt.title('Decision Tree')\n",
        "plt.show()\n"
      ],
      "metadata": {
        "id": "H_2vYG_1v32O"
      },
      "execution_count": null,
      "outputs": []
    }
  ]
}